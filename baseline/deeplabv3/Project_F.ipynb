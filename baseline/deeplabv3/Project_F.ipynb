{
  "nbformat": 4,
  "nbformat_minor": 0,
  "metadata": {
    "colab": {
      "name": "Project_F.ipynb",
      "provenance": [],
      "collapsed_sections": []
    },
    "kernelspec": {
      "name": "python3",
      "display_name": "Python 3"
    },
    "language_info": {
      "name": "python"
    }
  },
  "cells": [
    {
      "cell_type": "code",
      "metadata": {
        "id": "Pg_jzuD7ZuCA"
      },
      "source": [
        "import torch\n",
        "import numpy as np\n",
        "import matplotlib.pyplot as plt\n",
        "import cv2\n",
        "from torchvision import transforms\n",
        "from PIL import Image\n",
        "from pathlib import Path\n",
        "from torchvision.models.segmentation.deeplabv3 import DeepLabHead\n",
        "from torchvision import models\n",
        "from typing import Any, Callable, Optional\n",
        "from PIL import Image\n",
        "from torchvision.datasets.vision import VisionDataset\n",
        "from torch.utils.data import DataLoader\n",
        "import copy\n",
        "import csv\n",
        "import os\n",
        "import time\n",
        "from tqdm import tqdm\n",
        "import click\n",
        "from sklearn.metrics import f1_score, roc_auc_score\n",
        "from torch.utils import data"
      ],
      "execution_count": null,
      "outputs": []
    },
    {
      "cell_type": "code",
      "metadata": {
        "id": "G-DdywDnaMKc"
      },
      "source": [
        "#mount google drive\n",
        "from google.colab import drive\n",
        "drive.mount('/content/gdrive')"
      ],
      "execution_count": null,
      "outputs": []
    },
    {
      "cell_type": "code",
      "metadata": {
        "id": "GopDjbWBaOzM"
      },
      "source": [
        "def createDeepLabv3(outputchannels=1):\n",
        "    \"\"\"DeepLabv3 class with custom head\n",
        "    Args:\n",
        "        outputchannels (int, optional): The number of output channels\n",
        "        in your dataset masks. Defaults to 1.\n",
        "    Returns:\n",
        "        model: Returns the DeepLabv3 model with the ResNet101 backbone.\n",
        "    \"\"\"\n",
        "    model = models.segmentation.deeplabv3_resnet101(pretrained=True,\n",
        "                                                    progress=True)\n",
        "    model.classifier = DeepLabHead(2048, outputchannels)\n",
        "    model.train()\n",
        "    return model"
      ],
      "execution_count": null,
      "outputs": []
    },
    {
      "cell_type": "code",
      "metadata": {
        "id": "ko-TMlENaS3Q"
      },
      "source": [
        "class PianorollDataset(VisionDataset):\n",
        "\n",
        "    def __init__(self,\n",
        "                 root: str,\n",
        "                 image_folder: str,\n",
        "                 mask_folder: str,\n",
        "                 transforms: Optional[Callable] = None,\n",
        "                 seed: int = None,\n",
        "                 fraction: float = None,\n",
        "                 subset: str = None):\n",
        "\n",
        "        super().__init__(root, transforms)\n",
        "        image_folder_path = Path(self.root) / image_folder\n",
        "        mask_folder_path = Path(self.root) / mask_folder\n",
        "\n",
        "\n",
        "        if not image_folder_path.exists():\n",
        "            raise OSError(f\"{image_folder_path} does not exist.\")\n",
        "        if not mask_folder_path.exists():\n",
        "            raise OSError(f\"{mask_folder_path} does not exist.\")\n",
        "            \n",
        "        if not fraction: #if fraction == None：\n",
        "            self.image_names = sorted(image_folder_path.glob(\"*\"))\n",
        "            self.mask_names = sorted(mask_folder_path.glob(\"*\"))\n",
        "        else:\n",
        "            self.fraction = fraction\n",
        "            self.image_list = np.array(sorted(image_folder_path.glob(\"*\"))) #attributes (self.image_list)\n",
        "            self.mask_list = np.array(sorted(mask_folder_path.glob(\"*\"))) #attributes (self.mask_list)\n",
        "            if seed != None:\n",
        "                np.random.seed(seed)\n",
        "                indices = np.arange(len(self.image_list))\n",
        "                np.random.shuffle(indices) #Modify a sequence in-place by shuffling its contents. This function only shuffles the array along the first axis of a multi-dimensional array. The order of sub-arrays is changed but their contents remains the same.\n",
        "                #arr = np.arange(10) -> np.random.shuffle(arr) --> [1 7 5 2 9 4 3 6 0 8] \n",
        "                self.image_list = self.image_list[indices]\n",
        "                self.mask_list = self.mask_list[indices]\n",
        "                #right now only accounts for training seT?\n",
        "                if subset == \"Training\":\n",
        "                    self.image_names = self.image_list[:int(np.ceil(len(self.image_list) * (1 - self.fraction)))] #the training set\n",
        "                    self.mask_names = self.mask_list[:int(np.ceil(len(self.mask_list) * (1 - self.fraction)))]  #the training set\n",
        "                elif subset == \"Validation\":\n",
        "                    self.image_names = self.image_list[int(np.ceil(len(self.image_list) * (1 - self.fraction))):]\n",
        "                    self.mask_names = self.mask_list[int(np.ceil(len(self.mask_list) * (1 - self.fraction))):]\n",
        "\n",
        "\n",
        "    def __len__(self):\n",
        "        return len(self.image_names)\n",
        "\n",
        "    def __getitem__(self, index: int):\n",
        "        #return one item on the index, for given index, we return the item at that index\n",
        "        image_path = self.image_names[index]\n",
        "        mask_path = self.mask_names[index]\n",
        "        with open(image_path, \"rb\") as image_file, open(mask_path, \"rb\") as mask_file:\n",
        "            image = Image.open(image_file)\n",
        "            image = image.convert(\"RGB\")\n",
        "            mask = Image.open(mask_file)\n",
        "            mask = mask.convert(\"L\")\n",
        "            sample = {\"image\": image, \"mask\":mask} #dictionary \n",
        "            if self.transforms != None: #if we want to use a specific transform\n",
        "                sample['image'] = self.transforms(sample[\"image\"])\n",
        "                sample[\"mask\"] = self.transforms(sample[\"mask\"])\n",
        "            return sample"
      ],
      "execution_count": null,
      "outputs": []
    },
    {
      "cell_type": "code",
      "metadata": {
        "id": "ymJoWU3ma7jx"
      },
      "source": [
        "def dataloader(data_dir: str,\n",
        "                                 image_folder: str = 'resized_input',\n",
        "                                 mask_folder: str = 'resized_target',\n",
        "                                 fraction: float = 0.2,\n",
        "                                 batch_size: int = 4):\n",
        "    \"\"\"Create train and test dataloader from a single directory containing\n",
        "    the image and mask folders.\n",
        "    Args:\n",
        "        data_dir (str): Data directory path or root\n",
        "        image_folder (str, optional): Image folder name. Defaults to 'Images'.\n",
        "        mask_folder (str, optional): Mask folder name. Defaults to 'Masks'.\n",
        "        fraction (float, optional): Fraction of Test set. Defaults to 0.2.\n",
        "        batch_size (int, optional): Dataloader batch size. Defaults to 4.\n",
        "    Returns:\n",
        "        dataloaders: Returns dataloaders dictionary containing the\n",
        "        Train and Test dataloaders.\n",
        "    \"\"\"\n",
        "    data_transforms = transforms.Compose([transforms.ToTensor()])\n",
        "    #transforms.ToTensor(): This just converts your input image to PyTorch tensor.\n",
        "    #torchvision.transforms.Compose(transforms)\n",
        "    #Composes several transforms together. This transform does not support torchscript. Please, see the note below.\n",
        "    '''\n",
        "    Most transformations accept both PIL images and tensor images, although some transformations are PIL-only and some are tensor-only. \n",
        "    The Conversion Transforms may be used to convert to and from PIL images. The transformations that accept tensor images also accept \n",
        "    batches of tensor images. A Tensor Image is a tensor with (C, H, W) shape, where C is a number of channels, H and W are image \n",
        "    height and width. A batch of Tensor Images is a tensor of (B, C, H, W) shape, where B is a number of images in the batch.\n",
        "    '''\n",
        "\n",
        "    image_datasets = {\n",
        "        x: PianorollDataset(data_dir,\n",
        "                               image_folder=image_folder,\n",
        "                               mask_folder=mask_folder,\n",
        "                               seed=100,\n",
        "                               fraction=fraction,\n",
        "                               subset=x,\n",
        "                               transforms=data_transforms)\n",
        "        for x in ['Training', 'Validation']\n",
        "    }\n",
        "\n",
        "    #The DataLoader class is designed so that it can be iterated using the enumerate() function, which returns a tuple with the current batch zero-based index value, and the actual batch of data\n",
        "    #read the documentation on the DataLoader class: https://pytorch.org/docs/stable/data.html \n",
        "    #we implement a map-style dataset\n",
        "    dataloaders = {\n",
        "        x: DataLoader(image_datasets[x],\n",
        "                      batch_size=batch_size,\n",
        "                      shuffle=True,\n",
        "                      num_workers=8)\n",
        "        for x in ['Training', 'Validation']\n",
        "    }\n",
        "    return dataloaders"
      ],
      "execution_count": null,
      "outputs": []
    },
    {
      "cell_type": "code",
      "metadata": {
        "id": "zH3i8BAibRSo"
      },
      "source": [
        "def get_model_name(model_name, batch_size, learning_rate, epoch):\n",
        "    '''\n",
        "    Generate a name for the model consisting of hyperparameter values\n",
        "\n",
        "    Args:\n",
        "         config: Configuration object containing the hyperparameters\n",
        "    Returns: \n",
        "        path: A string with the hyperparameter name and value concatenated\n",
        "    '''\n",
        "    path = \"model_{0}_bs{1}_lr{2}_epoch{3}\".format(model_name, batch_size, learning_rate, epoch)\n",
        "\n",
        "    return path"
      ],
      "execution_count": null,
      "outputs": []
    },
    {
      "cell_type": "code",
      "metadata": {
        "id": "y06V9CeKbULV"
      },
      "source": [
        "def train_model(model, criterion, dataloaders, optimizer, metrics, bpath, num_epochs, batch_size, learning_rate):\n",
        "    torch.manual_seed(1000)\n",
        "    best_model_wts = copy.deepcopy(model.state_dict())\n",
        "    best_loss = 1e10\n",
        "    start_time = time.time()\n",
        "\n",
        "    #if gpu is available, use gpu\n",
        "    state = \"cpu\"\n",
        "    if torch.cuda.is_available():\n",
        "        state = \"cuda\"\n",
        "    \n",
        "    device = torch.device(state)\n",
        "    model.to(device)\n",
        "    fieldnames = ['Epoch', 'Training_loss', 'Validation_loss'] + \\\n",
        "        [f'Training_{m}' for m in metrics.keys()] + \\\n",
        "        [f'Validation_{m}' for m in metrics.keys()] #\n",
        "\n",
        "    #fieldnames = ['Epoch','Training_loss','Validation_loss','Training_f1_score','Training_auroc','Validation_f1_score','Validation_auroc']\n",
        "    with open(os.path.join(bpath, 'results_log.csv'), 'w', newline='') as csvfile:\n",
        "        writer = csv.DictWriter(csvfile, fieldnames=fieldnames)\n",
        "        writer.writeheader()\n",
        "\n",
        "    for epoch in range(1, num_epochs + 1):\n",
        "        print('Epoch {}/{}'.format(epoch, num_epochs))\n",
        "        print('-' * 20)\n",
        "        batchsummary = {a: [0] for a in fieldnames}\n",
        "\n",
        "        i = 0\n",
        "        total_loss = 0.0\n",
        "        for phase in ['Training', 'Validation']:\n",
        "            if phase == \"Training\":\n",
        "                model.train()\n",
        "            else:\n",
        "                model.eval()\n",
        "            \n",
        "            for sample in tqdm(iter(dataloaders[phase])):\n",
        "                inputs = sample['image'].to(device)\n",
        "                masks = sample['mask'].to(device)\n",
        "                optimizer.zero_grad()\n",
        "                with torch.set_grad_enabled(phase == 'Training'):\n",
        "                    outputs = model(inputs)\n",
        "                    loss = criterion(outputs['out'], masks)\n",
        "                    y_pred = outputs['out'].data.cpu().numpy().ravel()\n",
        "                    y_true = masks.data.cpu().numpy().ravel()\n",
        "                    total_loss += loss.item()\n",
        "                    i += 1\n",
        "                    \n",
        "                    for name, metric in metrics.items():\n",
        "                        if name == 'f1_score':\n",
        "                            # Use a classification threshold of 0.1\n",
        "                            batchsummary[f'{phase}_{name}'].append(\n",
        "                                metric(y_true > 0, y_pred > 0.1))\n",
        "                        else:\n",
        "                            batchsummary[f'{phase}_{name}'].append(\n",
        "                                metric(y_true.astype('uint8'), y_pred))\n",
        "                    \n",
        "                    if phase == \"Training\":\n",
        "                        loss.backward()\n",
        "                        optimizer.step()\n",
        "                        \n",
        "\n",
        "            batchsummary['Epoch'] = epoch\n",
        "            epoch_loss = total_loss/(i+1) \n",
        "            batchsummary[f'{phase}_loss'] = epoch_loss\n",
        "            print('{} Loss: {:.4f}'.format(phase, epoch_loss))\n",
        "\n",
        "        for field in fieldnames[3:]:\n",
        "            batchsummary[field] = np.mean(batchsummary[field])\n",
        "        print(batchsummary)\n",
        "        with open(os.path.join(bpath, 'result_log.csv'), 'a', newline='') as csvfile:\n",
        "            writer = csv.DictWriter(csvfile, fieldnames=fieldnames)\n",
        "            writer.writerow(batchsummary)\n",
        "            if phase == 'Validation' and epoch_loss < best_loss:\n",
        "                best_loss = epoch_loss\n",
        "                best_model_wts = copy.deepcopy(model.state_dict())\n",
        "            if phase == 'Validation':\n",
        "                model_path = get_model_name(\"Baseline\",batch_size,learning_rate, epoch)\n",
        "                torch.save(model.state_dict(), \"gdrive/My Drive/APS360/Project/weights\" + \"/\" + model_path)\n",
        "        \n",
        "    print(\"Finished Training\")\n",
        "    end_time = time.time()\n",
        "    time_elapsed = start_time - end_time\n",
        "    print('Training complete in {:.0f}m {:.0f}s'.format(\n",
        "        time_elapsed // 60, time_elapsed % 60))\n",
        "    print('Lowest Loss: {:4f}'.format(best_loss))\n",
        "\n",
        "    return model"
      ],
      "execution_count": null,
      "outputs": []
    },
    {
      "cell_type": "code",
      "metadata": {
        "id": "50reXaS_bZbm"
      },
      "source": [
        "def main(data_directory, output_directory, epochs, batch_size, learning_rate = 1e-4):\n",
        "    # Create the deeplabv3 resnet101 model which is pretrained on a subset\n",
        "    model = createDeepLabv3()\n",
        "    model.train()\n",
        "    data_directory = Path(data_directory)\n",
        "    # Create the output directory if not present\n",
        "    output_directory = Path(output_directory)\n",
        "    if not output_directory.exists():\n",
        "        output_directory.mkdir()\n",
        "    \n",
        "    #CREATE OWN WEIGHT PATH\n",
        "    weights_path = \"gdrive/My Drive/Project/weights\"\n",
        "    weights_path = Path(weights_path)\n",
        "    if not weights_path.exists():\n",
        "        weights_path.mkdir()\n",
        "\n",
        "    # Specify the loss function\n",
        "    criterion = torch.nn.MSELoss(reduction='mean')\n",
        "    # Specify the optimizer with a lower learning rate\n",
        "    optimizer = torch.optim.Adam(model.parameters(), lr=learning_rate)\n",
        "\n",
        "    # Specify the evaluation metrics\n",
        "    metrics = {'f1_score': f1_score, 'auroc': roc_auc_score}\n",
        "\n",
        "    # Create the dataloader\n",
        "    dataloaders = dataloader(\n",
        "        data_directory, batch_size=batch_size)\n",
        "    _ = train_model(model,\n",
        "                    criterion,\n",
        "                    dataloaders,\n",
        "                    optimizer,\n",
        "                    bpath=output_directory,\n",
        "                    metrics=metrics,\n",
        "                    num_epochs=epochs,\n",
        "                batch_size = batch_size,\n",
        "                learning_rate = learning_rate)\n",
        "\n",
        "    # Save the trained model\n",
        "    torch.save(model, output_directory / 'weights.pt')"
      ],
      "execution_count": null,
      "outputs": []
    },
    {
      "cell_type": "code",
      "metadata": {
        "colab": {
          "base_uri": "https://localhost:8080/",
          "height": 1000,
          "referenced_widgets": [
            "ce625894703a4736a8fdce692a0749a3",
            "3a0f773d935347baa9e59796fdf0bf0c",
            "a8899fa896124673965c9dc3e6f794a3",
            "c24b88f2c4ce498fa20ca4638b055b00",
            "efb9957d186745b4b35aa65fe0043442",
            "45711ab14d6447fe8dcde9fa736cec4e",
            "b1e9b2381a934162831b27cfd9f5e3ff",
            "4024c8e3139d41a29b12451a715e582a"
          ]
        },
        "id": "E2GKMxWQo98i",
        "outputId": "706ee5bb-72c2-45eb-b8ee-7efd795a855a"
      },
      "source": [
        "main(\"gdrive/My Drive/Project/JSB_Finale\",\"gdrive/My Drive/Project/results\",epochs = 30,batch_size = 4, learning_rate = 1e-4)\n",
        "'''\n",
        "data_directory is the path to folder containing input Images \n",
        "(ex: gdrive/My Drive/Project/JSB_Finale)\n",
        "\n",
        "output_directory is the path to output folder (containing training log)\n",
        "'''"
      ],
      "execution_count": null,
      "outputs": [
        {
          "output_type": "stream",
          "text": [
            "Downloading: \"https://download.pytorch.org/models/deeplabv3_resnet101_coco-586e9e4e.pth\" to /root/.cache/torch/hub/checkpoints/deeplabv3_resnet101_coco-586e9e4e.pth\n"
          ],
          "name": "stderr"
        },
        {
          "output_type": "display_data",
          "data": {
            "application/vnd.jupyter.widget-view+json": {
              "model_id": "ce625894703a4736a8fdce692a0749a3",
              "version_minor": 0,
              "version_major": 2
            },
            "text/plain": [
              "HBox(children=(FloatProgress(value=0.0, max=244545539.0), HTML(value='')))"
            ]
          },
          "metadata": {
            "tags": []
          }
        },
        {
          "output_type": "stream",
          "text": [
            "\n"
          ],
          "name": "stdout"
        },
        {
          "output_type": "stream",
          "text": [
            "/usr/local/lib/python3.7/dist-packages/torch/utils/data/dataloader.py:481: UserWarning: This DataLoader will create 8 worker processes in total. Our suggested max number of worker in current system is 2, which is smaller than what this DataLoader is going to create. Please be aware that excessive worker creation might get DataLoader running slow or even freeze, lower the worker number to avoid potential slowness/freeze if necessary.\n",
            "  cpuset_checked))\n"
          ],
          "name": "stderr"
        },
        {
          "output_type": "stream",
          "text": [
            "Epoch 1/30\n",
            "--------------------\n"
          ],
          "name": "stdout"
        },
        {
          "output_type": "stream",
          "text": [
            "\r  0%|          | 0/61 [00:00<?, ?it/s]/usr/local/lib/python3.7/dist-packages/torch/nn/functional.py:718: UserWarning: Named tensors and all their associated APIs are an experimental feature and subject to change. Please do not use them for anything important until they are released as stable. (Triggered internally at  /pytorch/c10/core/TensorImpl.h:1156.)\n",
            "  return torch.max_pool2d(input, kernel_size, stride, padding, dilation, ceil_mode)\n",
            "100%|██████████| 61/61 [04:02<00:00,  3.97s/it]"
          ],
          "name": "stderr"
        },
        {
          "output_type": "stream",
          "text": [
            "Training Loss: 0.0371\n"
          ],
          "name": "stdout"
        },
        {
          "output_type": "stream",
          "text": [
            "\n",
            "/usr/local/lib/python3.7/dist-packages/torch/utils/data/dataloader.py:481: UserWarning: This DataLoader will create 8 worker processes in total. Our suggested max number of worker in current system is 2, which is smaller than what this DataLoader is going to create. Please be aware that excessive worker creation might get DataLoader running slow or even freeze, lower the worker number to avoid potential slowness/freeze if necessary.\n",
            "  cpuset_checked))\n",
            "100%|██████████| 16/16 [00:10<00:00,  1.57it/s]\n"
          ],
          "name": "stderr"
        },
        {
          "output_type": "stream",
          "text": [
            "Validation Loss: 0.0315\n",
            "{'Epoch': 1, 'Training_loss': 0.03709254642167399, 'Validation_loss': 0.031512060101167895, 'Training_f1_score': 0.048680233927109656, 'Training_auroc': 0.6918785575917781, 'Validation_f1_score': 0.17423891008398942, 'Validation_auroc': 0.8273880016522533}\n",
            "Epoch 2/30\n",
            "--------------------\n"
          ],
          "name": "stdout"
        },
        {
          "output_type": "stream",
          "text": [
            "/usr/local/lib/python3.7/dist-packages/torch/utils/data/dataloader.py:481: UserWarning: This DataLoader will create 8 worker processes in total. Our suggested max number of worker in current system is 2, which is smaller than what this DataLoader is going to create. Please be aware that excessive worker creation might get DataLoader running slow or even freeze, lower the worker number to avoid potential slowness/freeze if necessary.\n",
            "  cpuset_checked))\n",
            "100%|██████████| 61/61 [04:00<00:00,  3.95s/it]"
          ],
          "name": "stderr"
        },
        {
          "output_type": "stream",
          "text": [
            "Training Loss: 0.0148\n"
          ],
          "name": "stdout"
        },
        {
          "output_type": "stream",
          "text": [
            "\n",
            "/usr/local/lib/python3.7/dist-packages/torch/utils/data/dataloader.py:481: UserWarning: This DataLoader will create 8 worker processes in total. Our suggested max number of worker in current system is 2, which is smaller than what this DataLoader is going to create. Please be aware that excessive worker creation might get DataLoader running slow or even freeze, lower the worker number to avoid potential slowness/freeze if necessary.\n",
            "  cpuset_checked))\n",
            "100%|██████████| 16/16 [00:09<00:00,  1.74it/s]\n"
          ],
          "name": "stderr"
        },
        {
          "output_type": "stream",
          "text": [
            "Validation Loss: 0.0138\n",
            "{'Epoch': 2, 'Training_loss': 0.014799670271214939, 'Validation_loss': 0.013773735188759672, 'Training_f1_score': 0.10368109894849659, 'Training_auroc': 0.8174664987868566, 'Validation_f1_score': 0.18239033952799588, 'Validation_auroc': 0.8433421395513399}\n",
            "Epoch 3/30\n",
            "--------------------\n"
          ],
          "name": "stdout"
        },
        {
          "output_type": "stream",
          "text": [
            "/usr/local/lib/python3.7/dist-packages/torch/utils/data/dataloader.py:481: UserWarning: This DataLoader will create 8 worker processes in total. Our suggested max number of worker in current system is 2, which is smaller than what this DataLoader is going to create. Please be aware that excessive worker creation might get DataLoader running slow or even freeze, lower the worker number to avoid potential slowness/freeze if necessary.\n",
            "  cpuset_checked))\n",
            "100%|██████████| 61/61 [04:00<00:00,  3.95s/it]"
          ],
          "name": "stderr"
        },
        {
          "output_type": "stream",
          "text": [
            "Training Loss: 0.0120\n"
          ],
          "name": "stdout"
        },
        {
          "output_type": "stream",
          "text": [
            "\n",
            "/usr/local/lib/python3.7/dist-packages/torch/utils/data/dataloader.py:481: UserWarning: This DataLoader will create 8 worker processes in total. Our suggested max number of worker in current system is 2, which is smaller than what this DataLoader is going to create. Please be aware that excessive worker creation might get DataLoader running slow or even freeze, lower the worker number to avoid potential slowness/freeze if necessary.\n",
            "  cpuset_checked))\n",
            "100%|██████████| 16/16 [00:08<00:00,  1.79it/s]\n"
          ],
          "name": "stderr"
        },
        {
          "output_type": "stream",
          "text": [
            "Validation Loss: 0.0114\n",
            "{'Epoch': 3, 'Training_loss': 0.012034913119409353, 'Validation_loss': 0.011420421606789414, 'Training_f1_score': 0.15552531980502002, 'Training_auroc': 0.8700876056239707, 'Validation_f1_score': 0.2368132731402443, 'Validation_auroc': 0.8954270277687034}\n",
            "Epoch 4/30\n",
            "--------------------\n"
          ],
          "name": "stdout"
        },
        {
          "output_type": "stream",
          "text": [
            "/usr/local/lib/python3.7/dist-packages/torch/utils/data/dataloader.py:481: UserWarning: This DataLoader will create 8 worker processes in total. Our suggested max number of worker in current system is 2, which is smaller than what this DataLoader is going to create. Please be aware that excessive worker creation might get DataLoader running slow or even freeze, lower the worker number to avoid potential slowness/freeze if necessary.\n",
            "  cpuset_checked))\n",
            "100%|██████████| 61/61 [04:00<00:00,  3.95s/it]"
          ],
          "name": "stderr"
        },
        {
          "output_type": "stream",
          "text": [
            "Training Loss: 0.0109\n"
          ],
          "name": "stdout"
        },
        {
          "output_type": "stream",
          "text": [
            "\n",
            "/usr/local/lib/python3.7/dist-packages/torch/utils/data/dataloader.py:481: UserWarning: This DataLoader will create 8 worker processes in total. Our suggested max number of worker in current system is 2, which is smaller than what this DataLoader is going to create. Please be aware that excessive worker creation might get DataLoader running slow or even freeze, lower the worker number to avoid potential slowness/freeze if necessary.\n",
            "  cpuset_checked))\n",
            "100%|██████████| 16/16 [00:08<00:00,  1.81it/s]\n"
          ],
          "name": "stderr"
        },
        {
          "output_type": "stream",
          "text": [
            "Validation Loss: 0.0105\n",
            "{'Epoch': 4, 'Training_loss': 0.010865943100784094, 'Validation_loss': 0.010471381121673264, 'Training_f1_score': 0.18787506660585354, 'Training_auroc': 0.8969965949815497, 'Validation_f1_score': 0.2387118742715467, 'Validation_auroc': 0.8817812080297005}\n",
            "Epoch 5/30\n",
            "--------------------\n"
          ],
          "name": "stdout"
        },
        {
          "output_type": "stream",
          "text": [
            "/usr/local/lib/python3.7/dist-packages/torch/utils/data/dataloader.py:481: UserWarning: This DataLoader will create 8 worker processes in total. Our suggested max number of worker in current system is 2, which is smaller than what this DataLoader is going to create. Please be aware that excessive worker creation might get DataLoader running slow or even freeze, lower the worker number to avoid potential slowness/freeze if necessary.\n",
            "  cpuset_checked))\n",
            "100%|██████████| 61/61 [04:00<00:00,  3.94s/it]"
          ],
          "name": "stderr"
        },
        {
          "output_type": "stream",
          "text": [
            "Training Loss: 0.0103\n"
          ],
          "name": "stdout"
        },
        {
          "output_type": "stream",
          "text": [
            "\n",
            "/usr/local/lib/python3.7/dist-packages/torch/utils/data/dataloader.py:481: UserWarning: This DataLoader will create 8 worker processes in total. Our suggested max number of worker in current system is 2, which is smaller than what this DataLoader is going to create. Please be aware that excessive worker creation might get DataLoader running slow or even freeze, lower the worker number to avoid potential slowness/freeze if necessary.\n",
            "  cpuset_checked))\n",
            "100%|██████████| 16/16 [00:09<00:00,  1.76it/s]\n"
          ],
          "name": "stderr"
        },
        {
          "output_type": "stream",
          "text": [
            "Validation Loss: 0.0100\n",
            "{'Epoch': 5, 'Training_loss': 0.010278564261933488, 'Validation_loss': 0.010017420374191342, 'Training_f1_score': 0.20795554876335434, 'Training_auroc': 0.914747973226011, 'Validation_f1_score': 0.24147528397257212, 'Validation_auroc': 0.8818714230116645}\n",
            "Epoch 6/30\n",
            "--------------------\n"
          ],
          "name": "stdout"
        },
        {
          "output_type": "stream",
          "text": [
            "/usr/local/lib/python3.7/dist-packages/torch/utils/data/dataloader.py:481: UserWarning: This DataLoader will create 8 worker processes in total. Our suggested max number of worker in current system is 2, which is smaller than what this DataLoader is going to create. Please be aware that excessive worker creation might get DataLoader running slow or even freeze, lower the worker number to avoid potential slowness/freeze if necessary.\n",
            "  cpuset_checked))\n",
            "100%|██████████| 61/61 [04:00<00:00,  3.95s/it]"
          ],
          "name": "stderr"
        },
        {
          "output_type": "stream",
          "text": [
            "Training Loss: 0.0100\n"
          ],
          "name": "stdout"
        },
        {
          "output_type": "stream",
          "text": [
            "\n",
            "/usr/local/lib/python3.7/dist-packages/torch/utils/data/dataloader.py:481: UserWarning: This DataLoader will create 8 worker processes in total. Our suggested max number of worker in current system is 2, which is smaller than what this DataLoader is going to create. Please be aware that excessive worker creation might get DataLoader running slow or even freeze, lower the worker number to avoid potential slowness/freeze if necessary.\n",
            "  cpuset_checked))\n",
            "100%|██████████| 16/16 [00:08<00:00,  1.79it/s]\n"
          ],
          "name": "stderr"
        },
        {
          "output_type": "stream",
          "text": [
            "Validation Loss: 0.0103\n",
            "{'Epoch': 6, 'Training_loss': 0.009962804052197644, 'Validation_loss': 0.010276592712706098, 'Training_f1_score': 0.21935559342722472, 'Training_auroc': 0.9223652381019041, 'Validation_f1_score': 0.14009986392369173, 'Validation_auroc': 0.8895550037000919}\n",
            "Epoch 7/30\n",
            "--------------------\n"
          ],
          "name": "stdout"
        },
        {
          "output_type": "stream",
          "text": [
            "/usr/local/lib/python3.7/dist-packages/torch/utils/data/dataloader.py:481: UserWarning: This DataLoader will create 8 worker processes in total. Our suggested max number of worker in current system is 2, which is smaller than what this DataLoader is going to create. Please be aware that excessive worker creation might get DataLoader running slow or even freeze, lower the worker number to avoid potential slowness/freeze if necessary.\n",
            "  cpuset_checked))\n",
            "100%|██████████| 61/61 [04:01<00:00,  3.95s/it]"
          ],
          "name": "stderr"
        },
        {
          "output_type": "stream",
          "text": [
            "Training Loss: 0.0097\n"
          ],
          "name": "stdout"
        },
        {
          "output_type": "stream",
          "text": [
            "\n",
            "/usr/local/lib/python3.7/dist-packages/torch/utils/data/dataloader.py:481: UserWarning: This DataLoader will create 8 worker processes in total. Our suggested max number of worker in current system is 2, which is smaller than what this DataLoader is going to create. Please be aware that excessive worker creation might get DataLoader running slow or even freeze, lower the worker number to avoid potential slowness/freeze if necessary.\n",
            "  cpuset_checked))\n",
            "100%|██████████| 16/16 [00:09<00:00,  1.75it/s]\n"
          ],
          "name": "stderr"
        },
        {
          "output_type": "stream",
          "text": [
            "Validation Loss: 0.0096\n",
            "{'Epoch': 7, 'Training_loss': 0.009733841296345476, 'Validation_loss': 0.009588187530589027, 'Training_f1_score': 0.22618908795988948, 'Training_auroc': 0.9276348546706957, 'Validation_f1_score': 0.24660803981663595, 'Validation_auroc': 0.9017144107872302}\n",
            "Epoch 8/30\n",
            "--------------------\n"
          ],
          "name": "stdout"
        },
        {
          "output_type": "stream",
          "text": [
            "/usr/local/lib/python3.7/dist-packages/torch/utils/data/dataloader.py:481: UserWarning: This DataLoader will create 8 worker processes in total. Our suggested max number of worker in current system is 2, which is smaller than what this DataLoader is going to create. Please be aware that excessive worker creation might get DataLoader running slow or even freeze, lower the worker number to avoid potential slowness/freeze if necessary.\n",
            "  cpuset_checked))\n",
            "100%|██████████| 61/61 [04:00<00:00,  3.95s/it]"
          ],
          "name": "stderr"
        },
        {
          "output_type": "stream",
          "text": [
            "Training Loss: 0.0095\n"
          ],
          "name": "stdout"
        },
        {
          "output_type": "stream",
          "text": [
            "\n",
            "/usr/local/lib/python3.7/dist-packages/torch/utils/data/dataloader.py:481: UserWarning: This DataLoader will create 8 worker processes in total. Our suggested max number of worker in current system is 2, which is smaller than what this DataLoader is going to create. Please be aware that excessive worker creation might get DataLoader running slow or even freeze, lower the worker number to avoid potential slowness/freeze if necessary.\n",
            "  cpuset_checked))\n",
            "100%|██████████| 16/16 [00:08<00:00,  1.81it/s]\n"
          ],
          "name": "stderr"
        },
        {
          "output_type": "stream",
          "text": [
            "Validation Loss: 0.0094\n",
            "{'Epoch': 8, 'Training_loss': 0.009482156643043122, 'Validation_loss': 0.009374156707706742, 'Training_f1_score': 0.2342190231227113, 'Training_auroc': 0.9365666792721822, 'Validation_f1_score': 0.24580441957663565, 'Validation_auroc': 0.8981895827672616}\n",
            "Epoch 9/30\n",
            "--------------------\n"
          ],
          "name": "stdout"
        },
        {
          "output_type": "stream",
          "text": [
            "/usr/local/lib/python3.7/dist-packages/torch/utils/data/dataloader.py:481: UserWarning: This DataLoader will create 8 worker processes in total. Our suggested max number of worker in current system is 2, which is smaller than what this DataLoader is going to create. Please be aware that excessive worker creation might get DataLoader running slow or even freeze, lower the worker number to avoid potential slowness/freeze if necessary.\n",
            "  cpuset_checked))\n",
            "100%|██████████| 61/61 [04:00<00:00,  3.95s/it]"
          ],
          "name": "stderr"
        },
        {
          "output_type": "stream",
          "text": [
            "Training Loss: 0.0094\n"
          ],
          "name": "stdout"
        },
        {
          "output_type": "stream",
          "text": [
            "\n",
            "/usr/local/lib/python3.7/dist-packages/torch/utils/data/dataloader.py:481: UserWarning: This DataLoader will create 8 worker processes in total. Our suggested max number of worker in current system is 2, which is smaller than what this DataLoader is going to create. Please be aware that excessive worker creation might get DataLoader running slow or even freeze, lower the worker number to avoid potential slowness/freeze if necessary.\n",
            "  cpuset_checked))\n",
            "100%|██████████| 16/16 [00:08<00:00,  1.79it/s]\n"
          ],
          "name": "stderr"
        },
        {
          "output_type": "stream",
          "text": [
            "Validation Loss: 0.0092\n",
            "{'Epoch': 9, 'Training_loss': 0.009358969960181464, 'Validation_loss': 0.00921045490898765, 'Training_f1_score': 0.23901758978322848, 'Training_auroc': 0.9414757468957867, 'Validation_f1_score': 0.2421980800573401, 'Validation_auroc': 0.9084089586774637}\n",
            "Epoch 10/30\n",
            "--------------------\n"
          ],
          "name": "stdout"
        },
        {
          "output_type": "stream",
          "text": [
            "/usr/local/lib/python3.7/dist-packages/torch/utils/data/dataloader.py:481: UserWarning: This DataLoader will create 8 worker processes in total. Our suggested max number of worker in current system is 2, which is smaller than what this DataLoader is going to create. Please be aware that excessive worker creation might get DataLoader running slow or even freeze, lower the worker number to avoid potential slowness/freeze if necessary.\n",
            "  cpuset_checked))\n",
            "100%|██████████| 61/61 [04:01<00:00,  3.95s/it]"
          ],
          "name": "stderr"
        },
        {
          "output_type": "stream",
          "text": [
            "Training Loss: 0.0093\n"
          ],
          "name": "stdout"
        },
        {
          "output_type": "stream",
          "text": [
            "\n",
            "/usr/local/lib/python3.7/dist-packages/torch/utils/data/dataloader.py:481: UserWarning: This DataLoader will create 8 worker processes in total. Our suggested max number of worker in current system is 2, which is smaller than what this DataLoader is going to create. Please be aware that excessive worker creation might get DataLoader running slow or even freeze, lower the worker number to avoid potential slowness/freeze if necessary.\n",
            "  cpuset_checked))\n",
            "100%|██████████| 16/16 [00:09<00:00,  1.75it/s]\n"
          ],
          "name": "stderr"
        },
        {
          "output_type": "stream",
          "text": [
            "Validation Loss: 0.0093\n",
            "{'Epoch': 10, 'Training_loss': 0.00927455852469129, 'Validation_loss': 0.00927159879117822, 'Training_f1_score': 0.24188551312164427, 'Training_auroc': 0.9431904824108731, 'Validation_f1_score': 0.2439919517861347, 'Validation_auroc': 0.8870491410942921}\n",
            "Epoch 11/30\n",
            "--------------------\n"
          ],
          "name": "stdout"
        },
        {
          "output_type": "stream",
          "text": [
            "/usr/local/lib/python3.7/dist-packages/torch/utils/data/dataloader.py:481: UserWarning: This DataLoader will create 8 worker processes in total. Our suggested max number of worker in current system is 2, which is smaller than what this DataLoader is going to create. Please be aware that excessive worker creation might get DataLoader running slow or even freeze, lower the worker number to avoid potential slowness/freeze if necessary.\n",
            "  cpuset_checked))\n",
            "100%|██████████| 61/61 [04:00<00:00,  3.95s/it]"
          ],
          "name": "stderr"
        },
        {
          "output_type": "stream",
          "text": [
            "Training Loss: 0.0092\n"
          ],
          "name": "stdout"
        },
        {
          "output_type": "stream",
          "text": [
            "\n",
            "/usr/local/lib/python3.7/dist-packages/torch/utils/data/dataloader.py:481: UserWarning: This DataLoader will create 8 worker processes in total. Our suggested max number of worker in current system is 2, which is smaller than what this DataLoader is going to create. Please be aware that excessive worker creation might get DataLoader running slow or even freeze, lower the worker number to avoid potential slowness/freeze if necessary.\n",
            "  cpuset_checked))\n",
            "100%|██████████| 16/16 [00:09<00:00,  1.76it/s]\n"
          ],
          "name": "stderr"
        },
        {
          "output_type": "stream",
          "text": [
            "Validation Loss: 0.0091\n",
            "{'Epoch': 11, 'Training_loss': 0.009168797953715247, 'Validation_loss': 0.00905734533444047, 'Training_f1_score': 0.24590850238739687, 'Training_auroc': 0.9465094154242354, 'Validation_f1_score': 0.24494649501771992, 'Validation_auroc': 0.9121820695167593}\n",
            "Epoch 12/30\n",
            "--------------------\n"
          ],
          "name": "stdout"
        },
        {
          "output_type": "stream",
          "text": [
            "/usr/local/lib/python3.7/dist-packages/torch/utils/data/dataloader.py:481: UserWarning: This DataLoader will create 8 worker processes in total. Our suggested max number of worker in current system is 2, which is smaller than what this DataLoader is going to create. Please be aware that excessive worker creation might get DataLoader running slow or even freeze, lower the worker number to avoid potential slowness/freeze if necessary.\n",
            "  cpuset_checked))\n",
            "100%|██████████| 61/61 [04:01<00:00,  3.96s/it]"
          ],
          "name": "stderr"
        },
        {
          "output_type": "stream",
          "text": [
            "Training Loss: 0.0091\n"
          ],
          "name": "stdout"
        },
        {
          "output_type": "stream",
          "text": [
            "\n",
            "/usr/local/lib/python3.7/dist-packages/torch/utils/data/dataloader.py:481: UserWarning: This DataLoader will create 8 worker processes in total. Our suggested max number of worker in current system is 2, which is smaller than what this DataLoader is going to create. Please be aware that excessive worker creation might get DataLoader running slow or even freeze, lower the worker number to avoid potential slowness/freeze if necessary.\n",
            "  cpuset_checked))\n",
            "100%|██████████| 16/16 [00:09<00:00,  1.75it/s]\n"
          ],
          "name": "stderr"
        },
        {
          "output_type": "stream",
          "text": [
            "Validation Loss: 0.0090\n",
            "{'Epoch': 12, 'Training_loss': 0.009120394513311406, 'Validation_loss': 0.009018754103006078, 'Training_f1_score': 0.24828105871996456, 'Training_auroc': 0.9475921400874266, 'Validation_f1_score': 0.243373334757877, 'Validation_auroc': 0.9156730123852045}\n",
            "Epoch 13/30\n",
            "--------------------\n"
          ],
          "name": "stdout"
        },
        {
          "output_type": "stream",
          "text": [
            "/usr/local/lib/python3.7/dist-packages/torch/utils/data/dataloader.py:481: UserWarning: This DataLoader will create 8 worker processes in total. Our suggested max number of worker in current system is 2, which is smaller than what this DataLoader is going to create. Please be aware that excessive worker creation might get DataLoader running slow or even freeze, lower the worker number to avoid potential slowness/freeze if necessary.\n",
            "  cpuset_checked))\n",
            "100%|██████████| 61/61 [04:00<00:00,  3.95s/it]"
          ],
          "name": "stderr"
        },
        {
          "output_type": "stream",
          "text": [
            "Training Loss: 0.0091\n"
          ],
          "name": "stdout"
        },
        {
          "output_type": "stream",
          "text": [
            "\n",
            "/usr/local/lib/python3.7/dist-packages/torch/utils/data/dataloader.py:481: UserWarning: This DataLoader will create 8 worker processes in total. Our suggested max number of worker in current system is 2, which is smaller than what this DataLoader is going to create. Please be aware that excessive worker creation might get DataLoader running slow or even freeze, lower the worker number to avoid potential slowness/freeze if necessary.\n",
            "  cpuset_checked))\n",
            "100%|██████████| 16/16 [00:09<00:00,  1.77it/s]\n"
          ],
          "name": "stderr"
        },
        {
          "output_type": "stream",
          "text": [
            "Validation Loss: 0.0089\n",
            "{'Epoch': 13, 'Training_loss': 0.00907245330933121, 'Validation_loss': 0.008934089436362952, 'Training_f1_score': 0.249716895744292, 'Training_auroc': 0.9486625087190343, 'Validation_f1_score': 0.24377335423085214, 'Validation_auroc': 0.9160614367892154}\n",
            "Epoch 14/30\n",
            "--------------------\n"
          ],
          "name": "stdout"
        },
        {
          "output_type": "stream",
          "text": [
            "/usr/local/lib/python3.7/dist-packages/torch/utils/data/dataloader.py:481: UserWarning: This DataLoader will create 8 worker processes in total. Our suggested max number of worker in current system is 2, which is smaller than what this DataLoader is going to create. Please be aware that excessive worker creation might get DataLoader running slow or even freeze, lower the worker number to avoid potential slowness/freeze if necessary.\n",
            "  cpuset_checked))\n",
            "100%|██████████| 61/61 [04:01<00:00,  3.96s/it]"
          ],
          "name": "stderr"
        },
        {
          "output_type": "stream",
          "text": [
            "Training Loss: 0.0090\n"
          ],
          "name": "stdout"
        },
        {
          "output_type": "stream",
          "text": [
            "\n",
            "/usr/local/lib/python3.7/dist-packages/torch/utils/data/dataloader.py:481: UserWarning: This DataLoader will create 8 worker processes in total. Our suggested max number of worker in current system is 2, which is smaller than what this DataLoader is going to create. Please be aware that excessive worker creation might get DataLoader running slow or even freeze, lower the worker number to avoid potential slowness/freeze if necessary.\n",
            "  cpuset_checked))\n",
            "100%|██████████| 16/16 [00:08<00:00,  1.80it/s]\n"
          ],
          "name": "stderr"
        },
        {
          "output_type": "stream",
          "text": [
            "Validation Loss: 0.0089\n",
            "{'Epoch': 14, 'Training_loss': 0.00902093494040591, 'Validation_loss': 0.008923158974935994, 'Training_f1_score': 0.25316030540348716, 'Training_auroc': 0.9506622269391786, 'Validation_f1_score': 0.2370399534601379, 'Validation_auroc': 0.9144415291873222}\n",
            "Epoch 15/30\n",
            "--------------------\n"
          ],
          "name": "stdout"
        },
        {
          "output_type": "stream",
          "text": [
            "/usr/local/lib/python3.7/dist-packages/torch/utils/data/dataloader.py:481: UserWarning: This DataLoader will create 8 worker processes in total. Our suggested max number of worker in current system is 2, which is smaller than what this DataLoader is going to create. Please be aware that excessive worker creation might get DataLoader running slow or even freeze, lower the worker number to avoid potential slowness/freeze if necessary.\n",
            "  cpuset_checked))\n",
            "100%|██████████| 61/61 [04:01<00:00,  3.95s/it]"
          ],
          "name": "stderr"
        },
        {
          "output_type": "stream",
          "text": [
            "Training Loss: 0.0090\n"
          ],
          "name": "stdout"
        },
        {
          "output_type": "stream",
          "text": [
            "\n",
            "/usr/local/lib/python3.7/dist-packages/torch/utils/data/dataloader.py:481: UserWarning: This DataLoader will create 8 worker processes in total. Our suggested max number of worker in current system is 2, which is smaller than what this DataLoader is going to create. Please be aware that excessive worker creation might get DataLoader running slow or even freeze, lower the worker number to avoid potential slowness/freeze if necessary.\n",
            "  cpuset_checked))\n",
            "100%|██████████| 16/16 [00:08<00:00,  1.79it/s]\n"
          ],
          "name": "stderr"
        },
        {
          "output_type": "stream",
          "text": [
            "Validation Loss: 0.0089\n",
            "{'Epoch': 15, 'Training_loss': 0.008989528489990099, 'Validation_loss': 0.008914039416525226, 'Training_f1_score': 0.25454557905728686, 'Training_auroc': 0.9512389408715367, 'Validation_f1_score': 0.24989273325424996, 'Validation_auroc': 0.9093326291560556}\n",
            "Epoch 16/30\n",
            "--------------------\n"
          ],
          "name": "stdout"
        },
        {
          "output_type": "stream",
          "text": [
            "/usr/local/lib/python3.7/dist-packages/torch/utils/data/dataloader.py:481: UserWarning: This DataLoader will create 8 worker processes in total. Our suggested max number of worker in current system is 2, which is smaller than what this DataLoader is going to create. Please be aware that excessive worker creation might get DataLoader running slow or even freeze, lower the worker number to avoid potential slowness/freeze if necessary.\n",
            "  cpuset_checked))\n",
            "100%|██████████| 61/61 [04:00<00:00,  3.95s/it]"
          ],
          "name": "stderr"
        },
        {
          "output_type": "stream",
          "text": [
            "Training Loss: 0.0089\n"
          ],
          "name": "stdout"
        },
        {
          "output_type": "stream",
          "text": [
            "\n",
            "/usr/local/lib/python3.7/dist-packages/torch/utils/data/dataloader.py:481: UserWarning: This DataLoader will create 8 worker processes in total. Our suggested max number of worker in current system is 2, which is smaller than what this DataLoader is going to create. Please be aware that excessive worker creation might get DataLoader running slow or even freeze, lower the worker number to avoid potential slowness/freeze if necessary.\n",
            "  cpuset_checked))\n",
            "100%|██████████| 16/16 [00:09<00:00,  1.75it/s]\n"
          ],
          "name": "stderr"
        },
        {
          "output_type": "stream",
          "text": [
            "Validation Loss: 0.0088\n",
            "{'Epoch': 16, 'Training_loss': 0.008945235381683996, 'Validation_loss': 0.008817992352235775, 'Training_f1_score': 0.257220288183784, 'Training_auroc': 0.9528001918060296, 'Validation_f1_score': 0.24632448420821335, 'Validation_auroc': 0.9166399274805496}\n",
            "Epoch 17/30\n",
            "--------------------\n"
          ],
          "name": "stdout"
        },
        {
          "output_type": "stream",
          "text": [
            "/usr/local/lib/python3.7/dist-packages/torch/utils/data/dataloader.py:481: UserWarning: This DataLoader will create 8 worker processes in total. Our suggested max number of worker in current system is 2, which is smaller than what this DataLoader is going to create. Please be aware that excessive worker creation might get DataLoader running slow or even freeze, lower the worker number to avoid potential slowness/freeze if necessary.\n",
            "  cpuset_checked))\n",
            "100%|██████████| 61/61 [04:00<00:00,  3.95s/it]"
          ],
          "name": "stderr"
        },
        {
          "output_type": "stream",
          "text": [
            "Training Loss: 0.0089\n"
          ],
          "name": "stdout"
        },
        {
          "output_type": "stream",
          "text": [
            "\n",
            "/usr/local/lib/python3.7/dist-packages/torch/utils/data/dataloader.py:481: UserWarning: This DataLoader will create 8 worker processes in total. Our suggested max number of worker in current system is 2, which is smaller than what this DataLoader is going to create. Please be aware that excessive worker creation might get DataLoader running slow or even freeze, lower the worker number to avoid potential slowness/freeze if necessary.\n",
            "  cpuset_checked))\n",
            "100%|██████████| 16/16 [00:08<00:00,  1.78it/s]\n"
          ],
          "name": "stderr"
        },
        {
          "output_type": "stream",
          "text": [
            "Validation Loss: 0.0088\n",
            "{'Epoch': 17, 'Training_loss': 0.008915084151310785, 'Validation_loss': 0.008815651413244315, 'Training_f1_score': 0.25854865410535344, 'Training_auroc': 0.9532519027073234, 'Validation_f1_score': 0.24709561516219325, 'Validation_auroc': 0.914293224792003}\n",
            "Epoch 18/30\n",
            "--------------------\n"
          ],
          "name": "stdout"
        },
        {
          "output_type": "stream",
          "text": [
            "/usr/local/lib/python3.7/dist-packages/torch/utils/data/dataloader.py:481: UserWarning: This DataLoader will create 8 worker processes in total. Our suggested max number of worker in current system is 2, which is smaller than what this DataLoader is going to create. Please be aware that excessive worker creation might get DataLoader running slow or even freeze, lower the worker number to avoid potential slowness/freeze if necessary.\n",
            "  cpuset_checked))\n",
            "100%|██████████| 61/61 [04:00<00:00,  3.95s/it]"
          ],
          "name": "stderr"
        },
        {
          "output_type": "stream",
          "text": [
            "Training Loss: 0.0089\n"
          ],
          "name": "stdout"
        },
        {
          "output_type": "stream",
          "text": [
            "\n",
            "/usr/local/lib/python3.7/dist-packages/torch/utils/data/dataloader.py:481: UserWarning: This DataLoader will create 8 worker processes in total. Our suggested max number of worker in current system is 2, which is smaller than what this DataLoader is going to create. Please be aware that excessive worker creation might get DataLoader running slow or even freeze, lower the worker number to avoid potential slowness/freeze if necessary.\n",
            "  cpuset_checked))\n",
            "100%|██████████| 16/16 [00:08<00:00,  1.82it/s]\n"
          ],
          "name": "stderr"
        },
        {
          "output_type": "stream",
          "text": [
            "Validation Loss: 0.0088\n",
            "{'Epoch': 18, 'Training_loss': 0.00889894628386584, 'Validation_loss': 0.008849531101683775, 'Training_f1_score': 0.2600713038586455, 'Training_auroc': 0.9537831771117553, 'Validation_f1_score': 0.2440022961968839, 'Validation_auroc': 0.9157891505914899}\n",
            "Epoch 19/30\n",
            "--------------------\n"
          ],
          "name": "stdout"
        },
        {
          "output_type": "stream",
          "text": [
            "/usr/local/lib/python3.7/dist-packages/torch/utils/data/dataloader.py:481: UserWarning: This DataLoader will create 8 worker processes in total. Our suggested max number of worker in current system is 2, which is smaller than what this DataLoader is going to create. Please be aware that excessive worker creation might get DataLoader running slow or even freeze, lower the worker number to avoid potential slowness/freeze if necessary.\n",
            "  cpuset_checked))\n",
            "100%|██████████| 61/61 [04:00<00:00,  3.94s/it]"
          ],
          "name": "stderr"
        },
        {
          "output_type": "stream",
          "text": [
            "Training Loss: 0.0089\n"
          ],
          "name": "stdout"
        },
        {
          "output_type": "stream",
          "text": [
            "\n",
            "/usr/local/lib/python3.7/dist-packages/torch/utils/data/dataloader.py:481: UserWarning: This DataLoader will create 8 worker processes in total. Our suggested max number of worker in current system is 2, which is smaller than what this DataLoader is going to create. Please be aware that excessive worker creation might get DataLoader running slow or even freeze, lower the worker number to avoid potential slowness/freeze if necessary.\n",
            "  cpuset_checked))\n",
            "100%|██████████| 16/16 [00:09<00:00,  1.75it/s]\n"
          ],
          "name": "stderr"
        },
        {
          "output_type": "stream",
          "text": [
            "Validation Loss: 0.0088\n",
            "{'Epoch': 19, 'Training_loss': 0.008905053424138215, 'Validation_loss': 0.008813329088764314, 'Training_f1_score': 0.2593561180408377, 'Training_auroc': 0.9537120605018685, 'Validation_f1_score': 0.24901348955203662, 'Validation_auroc': 0.9119031427892124}\n",
            "Epoch 20/30\n",
            "--------------------\n"
          ],
          "name": "stdout"
        },
        {
          "output_type": "stream",
          "text": [
            "/usr/local/lib/python3.7/dist-packages/torch/utils/data/dataloader.py:481: UserWarning: This DataLoader will create 8 worker processes in total. Our suggested max number of worker in current system is 2, which is smaller than what this DataLoader is going to create. Please be aware that excessive worker creation might get DataLoader running slow or even freeze, lower the worker number to avoid potential slowness/freeze if necessary.\n",
            "  cpuset_checked))\n",
            "100%|██████████| 61/61 [04:00<00:00,  3.95s/it]"
          ],
          "name": "stderr"
        },
        {
          "output_type": "stream",
          "text": [
            "Training Loss: 0.0089\n"
          ],
          "name": "stdout"
        },
        {
          "output_type": "stream",
          "text": [
            "\n",
            "/usr/local/lib/python3.7/dist-packages/torch/utils/data/dataloader.py:481: UserWarning: This DataLoader will create 8 worker processes in total. Our suggested max number of worker in current system is 2, which is smaller than what this DataLoader is going to create. Please be aware that excessive worker creation might get DataLoader running slow or even freeze, lower the worker number to avoid potential slowness/freeze if necessary.\n",
            "  cpuset_checked))\n",
            "100%|██████████| 16/16 [00:08<00:00,  1.79it/s]\n"
          ],
          "name": "stderr"
        },
        {
          "output_type": "stream",
          "text": [
            "Validation Loss: 0.0088\n",
            "{'Epoch': 20, 'Training_loss': 0.00887757929552707, 'Validation_loss': 0.008775636153773237, 'Training_f1_score': 0.26135319429044807, 'Training_auroc': 0.9541186454236623, 'Validation_f1_score': 0.24789887772638905, 'Validation_auroc': 0.9166282858351903}\n",
            "Epoch 21/30\n",
            "--------------------\n"
          ],
          "name": "stdout"
        },
        {
          "output_type": "stream",
          "text": [
            "/usr/local/lib/python3.7/dist-packages/torch/utils/data/dataloader.py:481: UserWarning: This DataLoader will create 8 worker processes in total. Our suggested max number of worker in current system is 2, which is smaller than what this DataLoader is going to create. Please be aware that excessive worker creation might get DataLoader running slow or even freeze, lower the worker number to avoid potential slowness/freeze if necessary.\n",
            "  cpuset_checked))\n",
            "100%|██████████| 61/61 [04:00<00:00,  3.94s/it]"
          ],
          "name": "stderr"
        },
        {
          "output_type": "stream",
          "text": [
            "Training Loss: 0.0089\n"
          ],
          "name": "stdout"
        },
        {
          "output_type": "stream",
          "text": [
            "\n",
            "/usr/local/lib/python3.7/dist-packages/torch/utils/data/dataloader.py:481: UserWarning: This DataLoader will create 8 worker processes in total. Our suggested max number of worker in current system is 2, which is smaller than what this DataLoader is going to create. Please be aware that excessive worker creation might get DataLoader running slow or even freeze, lower the worker number to avoid potential slowness/freeze if necessary.\n",
            "  cpuset_checked))\n",
            "100%|██████████| 16/16 [00:09<00:00,  1.75it/s]\n"
          ],
          "name": "stderr"
        },
        {
          "output_type": "stream",
          "text": [
            "Validation Loss: 0.0088\n",
            "{'Epoch': 21, 'Training_loss': 0.008899134185705935, 'Validation_loss': 0.008835452817714749, 'Training_f1_score': 0.259685485581932, 'Training_auroc': 0.9535337598094854, 'Validation_f1_score': 0.24645335339019359, 'Validation_auroc': 0.9145835475335667}\n",
            "Epoch 22/30\n",
            "--------------------\n"
          ],
          "name": "stdout"
        },
        {
          "output_type": "stream",
          "text": [
            "/usr/local/lib/python3.7/dist-packages/torch/utils/data/dataloader.py:481: UserWarning: This DataLoader will create 8 worker processes in total. Our suggested max number of worker in current system is 2, which is smaller than what this DataLoader is going to create. Please be aware that excessive worker creation might get DataLoader running slow or even freeze, lower the worker number to avoid potential slowness/freeze if necessary.\n",
            "  cpuset_checked))\n",
            "100%|██████████| 61/61 [04:00<00:00,  3.94s/it]"
          ],
          "name": "stderr"
        },
        {
          "output_type": "stream",
          "text": [
            "Training Loss: 0.0089\n"
          ],
          "name": "stdout"
        },
        {
          "output_type": "stream",
          "text": [
            "\n",
            "/usr/local/lib/python3.7/dist-packages/torch/utils/data/dataloader.py:481: UserWarning: This DataLoader will create 8 worker processes in total. Our suggested max number of worker in current system is 2, which is smaller than what this DataLoader is going to create. Please be aware that excessive worker creation might get DataLoader running slow or even freeze, lower the worker number to avoid potential slowness/freeze if necessary.\n",
            "  cpuset_checked))\n",
            "100%|██████████| 16/16 [00:08<00:00,  1.81it/s]\n"
          ],
          "name": "stderr"
        },
        {
          "output_type": "stream",
          "text": [
            "Validation Loss: 0.0088\n",
            "{'Epoch': 22, 'Training_loss': 0.008850955013786592, 'Validation_loss': 0.008796606935226383, 'Training_f1_score': 0.2631481400112164, 'Training_auroc': 0.9550645270204137, 'Validation_f1_score': 0.24865308814975512, 'Validation_auroc': 0.9135849859474147}\n",
            "Epoch 23/30\n",
            "--------------------\n"
          ],
          "name": "stdout"
        },
        {
          "output_type": "stream",
          "text": [
            "/usr/local/lib/python3.7/dist-packages/torch/utils/data/dataloader.py:481: UserWarning: This DataLoader will create 8 worker processes in total. Our suggested max number of worker in current system is 2, which is smaller than what this DataLoader is going to create. Please be aware that excessive worker creation might get DataLoader running slow or even freeze, lower the worker number to avoid potential slowness/freeze if necessary.\n",
            "  cpuset_checked))\n",
            "100%|██████████| 61/61 [04:00<00:00,  3.94s/it]"
          ],
          "name": "stderr"
        },
        {
          "output_type": "stream",
          "text": [
            "Training Loss: 0.0088\n"
          ],
          "name": "stdout"
        },
        {
          "output_type": "stream",
          "text": [
            "\n",
            "/usr/local/lib/python3.7/dist-packages/torch/utils/data/dataloader.py:481: UserWarning: This DataLoader will create 8 worker processes in total. Our suggested max number of worker in current system is 2, which is smaller than what this DataLoader is going to create. Please be aware that excessive worker creation might get DataLoader running slow or even freeze, lower the worker number to avoid potential slowness/freeze if necessary.\n",
            "  cpuset_checked))\n",
            "100%|██████████| 16/16 [00:09<00:00,  1.75it/s]\n"
          ],
          "name": "stderr"
        },
        {
          "output_type": "stream",
          "text": [
            "Validation Loss: 0.0088\n",
            "{'Epoch': 23, 'Training_loss': 0.008849984275237206, 'Validation_loss': 0.008830625301179213, 'Training_f1_score': 0.2638743611813622, 'Training_auroc': 0.9549661386736068, 'Validation_f1_score': 0.24945167857058995, 'Validation_auroc': 0.9160282500250025}\n",
            "Epoch 24/30\n",
            "--------------------\n"
          ],
          "name": "stdout"
        },
        {
          "output_type": "stream",
          "text": [
            "/usr/local/lib/python3.7/dist-packages/torch/utils/data/dataloader.py:481: UserWarning: This DataLoader will create 8 worker processes in total. Our suggested max number of worker in current system is 2, which is smaller than what this DataLoader is going to create. Please be aware that excessive worker creation might get DataLoader running slow or even freeze, lower the worker number to avoid potential slowness/freeze if necessary.\n",
            "  cpuset_checked))\n",
            "100%|██████████| 61/61 [04:00<00:00,  3.94s/it]"
          ],
          "name": "stderr"
        },
        {
          "output_type": "stream",
          "text": [
            "Training Loss: 0.0088\n"
          ],
          "name": "stdout"
        },
        {
          "output_type": "stream",
          "text": [
            "\n",
            "/usr/local/lib/python3.7/dist-packages/torch/utils/data/dataloader.py:481: UserWarning: This DataLoader will create 8 worker processes in total. Our suggested max number of worker in current system is 2, which is smaller than what this DataLoader is going to create. Please be aware that excessive worker creation might get DataLoader running slow or even freeze, lower the worker number to avoid potential slowness/freeze if necessary.\n",
            "  cpuset_checked))\n",
            "100%|██████████| 16/16 [00:08<00:00,  1.83it/s]\n"
          ],
          "name": "stderr"
        },
        {
          "output_type": "stream",
          "text": [
            "Validation Loss: 0.0088\n",
            "{'Epoch': 24, 'Training_loss': 0.008830428333772768, 'Validation_loss': 0.008792175696446346, 'Training_f1_score': 0.2645169254812386, 'Training_auroc': 0.9551719032479413, 'Validation_f1_score': 0.24632258900264994, 'Validation_auroc': 0.9165684943938188}\n",
            "Epoch 25/30\n",
            "--------------------\n"
          ],
          "name": "stdout"
        },
        {
          "output_type": "stream",
          "text": [
            "/usr/local/lib/python3.7/dist-packages/torch/utils/data/dataloader.py:481: UserWarning: This DataLoader will create 8 worker processes in total. Our suggested max number of worker in current system is 2, which is smaller than what this DataLoader is going to create. Please be aware that excessive worker creation might get DataLoader running slow or even freeze, lower the worker number to avoid potential slowness/freeze if necessary.\n",
            "  cpuset_checked))\n",
            "100%|██████████| 61/61 [04:00<00:00,  3.94s/it]"
          ],
          "name": "stderr"
        },
        {
          "output_type": "stream",
          "text": [
            "Training Loss: 0.0088\n"
          ],
          "name": "stdout"
        },
        {
          "output_type": "stream",
          "text": [
            "\n",
            "/usr/local/lib/python3.7/dist-packages/torch/utils/data/dataloader.py:481: UserWarning: This DataLoader will create 8 worker processes in total. Our suggested max number of worker in current system is 2, which is smaller than what this DataLoader is going to create. Please be aware that excessive worker creation might get DataLoader running slow or even freeze, lower the worker number to avoid potential slowness/freeze if necessary.\n",
            "  cpuset_checked))\n",
            "100%|██████████| 16/16 [00:08<00:00,  1.80it/s]\n"
          ],
          "name": "stderr"
        },
        {
          "output_type": "stream",
          "text": [
            "Validation Loss: 0.0087\n",
            "{'Epoch': 25, 'Training_loss': 0.008810124435131588, 'Validation_loss': 0.008736855911616331, 'Training_f1_score': 0.265706559965616, 'Training_auroc': 0.9560368331265184, 'Validation_f1_score': 0.24883279440486852, 'Validation_auroc': 0.9116355565261975}\n",
            "Epoch 26/30\n",
            "--------------------\n"
          ],
          "name": "stdout"
        },
        {
          "output_type": "stream",
          "text": [
            "/usr/local/lib/python3.7/dist-packages/torch/utils/data/dataloader.py:481: UserWarning: This DataLoader will create 8 worker processes in total. Our suggested max number of worker in current system is 2, which is smaller than what this DataLoader is going to create. Please be aware that excessive worker creation might get DataLoader running slow or even freeze, lower the worker number to avoid potential slowness/freeze if necessary.\n",
            "  cpuset_checked))\n",
            "100%|██████████| 61/61 [04:00<00:00,  3.94s/it]"
          ],
          "name": "stderr"
        },
        {
          "output_type": "stream",
          "text": [
            "Training Loss: 0.0088\n"
          ],
          "name": "stdout"
        },
        {
          "output_type": "stream",
          "text": [
            "\n",
            "/usr/local/lib/python3.7/dist-packages/torch/utils/data/dataloader.py:481: UserWarning: This DataLoader will create 8 worker processes in total. Our suggested max number of worker in current system is 2, which is smaller than what this DataLoader is going to create. Please be aware that excessive worker creation might get DataLoader running slow or even freeze, lower the worker number to avoid potential slowness/freeze if necessary.\n",
            "  cpuset_checked))\n",
            "100%|██████████| 16/16 [00:09<00:00,  1.76it/s]\n"
          ],
          "name": "stderr"
        },
        {
          "output_type": "stream",
          "text": [
            "Validation Loss: 0.0087\n",
            "{'Epoch': 26, 'Training_loss': 0.008820017859820397, 'Validation_loss': 0.008746770974726249, 'Training_f1_score': 0.26559637353013404, 'Training_auroc': 0.9558821926243323, 'Validation_f1_score': 0.24697241385942778, 'Validation_auroc': 0.9163908406944712}\n",
            "Epoch 27/30\n",
            "--------------------\n"
          ],
          "name": "stdout"
        },
        {
          "output_type": "stream",
          "text": [
            "/usr/local/lib/python3.7/dist-packages/torch/utils/data/dataloader.py:481: UserWarning: This DataLoader will create 8 worker processes in total. Our suggested max number of worker in current system is 2, which is smaller than what this DataLoader is going to create. Please be aware that excessive worker creation might get DataLoader running slow or even freeze, lower the worker number to avoid potential slowness/freeze if necessary.\n",
            "  cpuset_checked))\n",
            "100%|██████████| 61/61 [04:00<00:00,  3.95s/it]"
          ],
          "name": "stderr"
        },
        {
          "output_type": "stream",
          "text": [
            "Training Loss: 0.0088\n"
          ],
          "name": "stdout"
        },
        {
          "output_type": "stream",
          "text": [
            "\n",
            "/usr/local/lib/python3.7/dist-packages/torch/utils/data/dataloader.py:481: UserWarning: This DataLoader will create 8 worker processes in total. Our suggested max number of worker in current system is 2, which is smaller than what this DataLoader is going to create. Please be aware that excessive worker creation might get DataLoader running slow or even freeze, lower the worker number to avoid potential slowness/freeze if necessary.\n",
            "  cpuset_checked))\n",
            "100%|██████████| 16/16 [00:08<00:00,  1.80it/s]\n"
          ],
          "name": "stderr"
        },
        {
          "output_type": "stream",
          "text": [
            "Validation Loss: 0.0087\n",
            "{'Epoch': 27, 'Training_loss': 0.00880220940246457, 'Validation_loss': 0.008723362874335203, 'Training_f1_score': 0.26713637586025907, 'Training_auroc': 0.9564065044462444, 'Validation_f1_score': 0.2439542194924573, 'Validation_auroc': 0.9156895963077809}\n",
            "Epoch 28/30\n",
            "--------------------\n"
          ],
          "name": "stdout"
        },
        {
          "output_type": "stream",
          "text": [
            "/usr/local/lib/python3.7/dist-packages/torch/utils/data/dataloader.py:481: UserWarning: This DataLoader will create 8 worker processes in total. Our suggested max number of worker in current system is 2, which is smaller than what this DataLoader is going to create. Please be aware that excessive worker creation might get DataLoader running slow or even freeze, lower the worker number to avoid potential slowness/freeze if necessary.\n",
            "  cpuset_checked))\n",
            "100%|██████████| 61/61 [04:00<00:00,  3.94s/it]"
          ],
          "name": "stderr"
        },
        {
          "output_type": "stream",
          "text": [
            "Training Loss: 0.0088\n"
          ],
          "name": "stdout"
        },
        {
          "output_type": "stream",
          "text": [
            "\n",
            "/usr/local/lib/python3.7/dist-packages/torch/utils/data/dataloader.py:481: UserWarning: This DataLoader will create 8 worker processes in total. Our suggested max number of worker in current system is 2, which is smaller than what this DataLoader is going to create. Please be aware that excessive worker creation might get DataLoader running slow or even freeze, lower the worker number to avoid potential slowness/freeze if necessary.\n",
            "  cpuset_checked))\n",
            "100%|██████████| 16/16 [00:09<00:00,  1.76it/s]\n"
          ],
          "name": "stderr"
        },
        {
          "output_type": "stream",
          "text": [
            "Validation Loss: 0.0087\n",
            "{'Epoch': 28, 'Training_loss': 0.008783828775067963, 'Validation_loss': 0.008716992317483975, 'Training_f1_score': 0.2687984778497913, 'Training_auroc': 0.9566098658105953, 'Validation_f1_score': 0.24617066502632762, 'Validation_auroc': 0.9162064276439665}\n",
            "Epoch 29/30\n",
            "--------------------\n"
          ],
          "name": "stdout"
        },
        {
          "output_type": "stream",
          "text": [
            "/usr/local/lib/python3.7/dist-packages/torch/utils/data/dataloader.py:481: UserWarning: This DataLoader will create 8 worker processes in total. Our suggested max number of worker in current system is 2, which is smaller than what this DataLoader is going to create. Please be aware that excessive worker creation might get DataLoader running slow or even freeze, lower the worker number to avoid potential slowness/freeze if necessary.\n",
            "  cpuset_checked))\n",
            "100%|██████████| 61/61 [04:00<00:00,  3.95s/it]"
          ],
          "name": "stderr"
        },
        {
          "output_type": "stream",
          "text": [
            "Training Loss: 0.0088\n"
          ],
          "name": "stdout"
        },
        {
          "output_type": "stream",
          "text": [
            "\n",
            "/usr/local/lib/python3.7/dist-packages/torch/utils/data/dataloader.py:481: UserWarning: This DataLoader will create 8 worker processes in total. Our suggested max number of worker in current system is 2, which is smaller than what this DataLoader is going to create. Please be aware that excessive worker creation might get DataLoader running slow or even freeze, lower the worker number to avoid potential slowness/freeze if necessary.\n",
            "  cpuset_checked))\n",
            "100%|██████████| 16/16 [00:08<00:00,  1.79it/s]\n"
          ],
          "name": "stderr"
        },
        {
          "output_type": "stream",
          "text": [
            "Validation Loss: 0.0087\n",
            "{'Epoch': 29, 'Training_loss': 0.008771865763851711, 'Validation_loss': 0.008694717475475792, 'Training_f1_score': 0.2696900651425487, 'Training_auroc': 0.9568397451647586, 'Validation_f1_score': 0.2418532464667324, 'Validation_auroc': 0.9157829709956952}\n",
            "Epoch 30/30\n",
            "--------------------\n"
          ],
          "name": "stdout"
        },
        {
          "output_type": "stream",
          "text": [
            "/usr/local/lib/python3.7/dist-packages/torch/utils/data/dataloader.py:481: UserWarning: This DataLoader will create 8 worker processes in total. Our suggested max number of worker in current system is 2, which is smaller than what this DataLoader is going to create. Please be aware that excessive worker creation might get DataLoader running slow or even freeze, lower the worker number to avoid potential slowness/freeze if necessary.\n",
            "  cpuset_checked))\n",
            "100%|██████████| 61/61 [04:00<00:00,  3.94s/it]"
          ],
          "name": "stderr"
        },
        {
          "output_type": "stream",
          "text": [
            "Training Loss: 0.0088\n"
          ],
          "name": "stdout"
        },
        {
          "output_type": "stream",
          "text": [
            "\n",
            "/usr/local/lib/python3.7/dist-packages/torch/utils/data/dataloader.py:481: UserWarning: This DataLoader will create 8 worker processes in total. Our suggested max number of worker in current system is 2, which is smaller than what this DataLoader is going to create. Please be aware that excessive worker creation might get DataLoader running slow or even freeze, lower the worker number to avoid potential slowness/freeze if necessary.\n",
            "  cpuset_checked))\n",
            "100%|██████████| 16/16 [00:08<00:00,  1.79it/s]\n"
          ],
          "name": "stderr"
        },
        {
          "output_type": "stream",
          "text": [
            "Validation Loss: 0.0087\n",
            "{'Epoch': 30, 'Training_loss': 0.008767100884729335, 'Validation_loss': 0.008715464864881376, 'Training_f1_score': 0.26971181309764947, 'Training_auroc': 0.9569669526468357, 'Validation_f1_score': 0.2500934054879307, 'Validation_auroc': 0.9156877134860513}\n",
            "Finished Training\n",
            "Training complete in -127m 58s\n",
            "Lowest Loss: 0.008695\n"
          ],
          "name": "stdout"
        }
      ]
    },
    {
      "cell_type": "code",
      "metadata": {
        "id": "kbqhr_Mccz8m"
      },
      "source": [
        "import matplotlib.pyplot as plt  \n",
        "import pandas as pd\n",
        "import os\n",
        "\n",
        "def plot_curves(csv_filepath,y_train, y_val, x_unit = \"Epoch\", y_unit = \"Loss\"):\n",
        "    '''\n",
        "    Plot the loss curve for a model run, given the csv files \n",
        "    containing the training and validation loss.\n",
        "\n",
        "    Args: \n",
        "    csv_filepath: The string path of the csv file containing training data\n",
        "    '''\n",
        "    df = pd.read_csv(csv_filepath)\n",
        "    Train_loss_series = df[y_train]\n",
        "    Val_loss_seires = df[y_val]\n",
        "    Epoch_series = df[x_unit]\n",
        "\n",
        "    #plot curves\n",
        "    ax = plt.gca()\n",
        "    df.plot(kind = 'line', x = x_unit, y = y_train,ax = ax)\n",
        "    df.plot(kind = 'line', x = x_unit, y = y_val, ax = ax)\n",
        "    plt.ylabel(y_unit)\n",
        "\n",
        "    plt.show()"
      ],
      "execution_count": null,
      "outputs": []
    },
    {
      "cell_type": "code",
      "metadata": {
        "colab": {
          "base_uri": "https://localhost:8080/",
          "height": 279
        },
        "id": "1s94Cqu2pyP3",
        "outputId": "5dca9998-72b7-4e69-c694-dead8a106ede"
      },
      "source": [
        "plot_curves(\"gdrive/My Drive/Project/r/results_log.csv\", \"Training_loss\", \"Validation_loss\")"
      ],
      "execution_count": null,
      "outputs": [
        {
          "output_type": "display_data",
          "data": {
            "image/png": "[encoded data removed]",
            "text/plain": [
              "<Figure size 432x288 with 1 Axes>"
            ]
          },
          "metadata": {
            "tags": [],
            "needs_background": "light"
          }
        }
      ]
    },
    {
      "cell_type": "code",
      "metadata": {
        "colab": {
          "base_uri": "https://localhost:8080/",
          "height": 279
        },
        "id": "Q7dJbc-ntRZb",
        "outputId": "70f6f323-f4c8-4c41-dbbb-1f982e09cde7"
      },
      "source": [
        "plot_curves(\"gdrive/My Drive/Project/r/results_log.csv\", \"Training_f1_score\", \"Validation_f1_score\", y_unit = \"f1_score\")"
      ],
      "execution_count": null,
      "outputs": [
        {
          "output_type": "display_data",
          "data": {
            "image/png": "[encoded data removed]",
            "text/plain": [
              "<Figure size 432x288 with 1 Axes>"
            ]
          },
          "metadata": {
            "tags": [],
            "needs_background": "light"
          }
        }
      ]
    },
    {
      "cell_type": "code",
      "metadata": {
        "colab": {
          "base_uri": "https://localhost:8080/",
          "height": 279
        },
        "id": "B0L-4LpStjlz",
        "outputId": "9e453989-8934-4b60-d346-6586ff8e0853"
      },
      "source": [
        "plot_curves(\"gdrive/My Drive/APS360/Project/r/results_log.csv\", \"Training_auroc\", \"Validation_auroc\", y_unit = \"area_under\")"
      ],
      "execution_count": null,
      "outputs": [
        {
          "output_type": "display_data",
          "data": {
            "image/png": "[encoded data removed]",
            "text/plain": [
              "<Figure size 432x288 with 1 Axes>"
            ]
          },
          "metadata": {
            "tags": [],
            "needs_background": "light"
          }
        }
      ]
    },
    {
      "cell_type": "code",
      "metadata": {
        "colab": {
          "base_uri": "https://localhost:8080/",
          "height": 100,
          "referenced_widgets": [
            "3433d09e4c9143ceaf635b7faad1ba3f",
            "ea1e5ea5753447c9a173b5d91db95978",
            "1aecb80c56844a429784631c681f8cba",
            "728b0ff4451a4c3b980261ee2acfc988",
            "be2933d9589c45bf9d7d022b90649a0b",
            "fd36be40c2534fa98080ea2123cac784",
            "0ed370f638c14fe98624e5185ace9b42",
            "de858c3b231a48fc8ce087279b1e766a"
          ]
        },
        "id": "Of4DTSJgVHIG",
        "outputId": "7809f168-6f91-423c-874f-6416e1328a50"
      },
      "source": [
        "chosen_net = chosen_net = createDeepLabv3()\n",
        "chosen_net.load_state_dict(torch.load(\"gdrive/My Drive/Project/weights/model_Baseline_bs4_lr0.0001_epoch29\"))\n",
        "\n",
        "#load model with best set of model weights\n",
        "#(ex: \"gdrive/My Drive/Project/weights/model_Baseline_bs4_lr0.0001_epoch29\")"
      ],
      "execution_count": null,
      "outputs": [
        {
          "output_type": "stream",
          "text": [
            "Downloading: \"https://download.pytorch.org/models/deeplabv3_resnet101_coco-586e9e4e.pth\" to /root/.cache/torch/hub/checkpoints/deeplabv3_resnet101_coco-586e9e4e.pth\n"
          ],
          "name": "stderr"
        },
        {
          "output_type": "display_data",
          "data": {
            "application/vnd.jupyter.widget-view+json": {
              "model_id": "3433d09e4c9143ceaf635b7faad1ba3f",
              "version_minor": 0,
              "version_major": 2
            },
            "text/plain": [
              "HBox(children=(FloatProgress(value=0.0, max=244545539.0), HTML(value='')))"
            ]
          },
          "metadata": {
            "tags": []
          }
        },
        {
          "output_type": "stream",
          "text": [
            "\n"
          ],
          "name": "stdout"
        },
        {
          "output_type": "execute_result",
          "data": {
            "text/plain": [
              "<All keys matched successfully>"
            ]
          },
          "metadata": {
            "tags": []
          },
          "execution_count": 12
        }
      ]
    },
    {
      "cell_type": "code",
      "metadata": {
        "id": "c-LLeYcKdgvO"
      },
      "source": [
        "def normalize(arr):\n",
        "    return (arr-np.min(arr))/(np.max(arr)-np.min(arr))"
      ],
      "execution_count": null,
      "outputs": []
    },
    {
      "cell_type": "code",
      "metadata": {
        "id": "vvrju6IydlIz"
      },
      "source": [
        "chosen_net.eval()\n",
        "chosen_net.to('cpu')\n",
        "chosen_net.requires_grad = False"
      ],
      "execution_count": null,
      "outputs": []
    },
    {
      "cell_type": "code",
      "metadata": {
        "id": "bsNLl00idoWH"
      },
      "source": [
        "img = Image.open(\"gdrive/My Drive/APS360/Project/10_test/resized_input/sans.png\").convert(\"RGB\")"
      ],
      "execution_count": null,
      "outputs": []
    },
    {
      "cell_type": "code",
      "metadata": {
        "colab": {
          "base_uri": "https://localhost:8080/",
          "height": 225
        },
        "id": "T-6V1BYi9Vss",
        "outputId": "5f5eca21-8a8c-4fc9-dd02-238eca2e5a32"
      },
      "source": [
        "plt.imshow(img)"
      ],
      "execution_count": null,
      "outputs": [
        {
          "output_type": "execute_result",
          "data": {
            "text/plain": [
              "<matplotlib.image.AxesImage at 0x7f3bf02bd550>"
            ]
          },
          "metadata": {
            "tags": []
          },
          "execution_count": 45
        },
        {
          "output_type": "display_data",
          "data": {
            "image/png": "[encoded data removed]",
            "text/plain": [
              "<Figure size 432x288 with 1 Axes>"
            ]
          },
          "metadata": {
            "tags": [],
            "needs_background": "light"
          }
        }
      ]
    },
    {
      "cell_type": "code",
      "metadata": {
        "id": "Y3l_ROomdtpa"
      },
      "source": [
        "nimg = np.asarray(img)\n",
        "h, w,_ = nimg.shape\n",
        "preprocess = transforms.Compose([\n",
        "    transforms.ToTensor()\n",
        "    ])\n",
        "outputs = chosen_net(torch.unsqueeze(preprocess(img), 0 ))[\"out\"]\n",
        "nout = normalize(outputs.detach().numpy()[0, 0, :,:])"
      ],
      "execution_count": null,
      "outputs": []
    },
    {
      "cell_type": "code",
      "metadata": {
        "colab": {
          "base_uri": "https://localhost:8080/",
          "height": 208
        },
        "id": "p3ixVut18-gO",
        "outputId": "c3023078-a751-406b-9fbd-fdda1f35c232"
      },
      "source": [
        "threshold = 0.9\n",
        "plt.imshow(nout>threshold)\n",
        "plt.show()"
      ],
      "execution_count": null,
      "outputs": [
        {
          "output_type": "display_data",
          "data": {
            "image/png": "[encoded data removed]",
            "text/plain": [
              "<Figure size 432x288 with 1 Axes>"
            ]
          },
          "metadata": {
            "tags": [],
            "needs_background": "light"
          }
        }
      ]
    },
    {
      "cell_type": "code",
      "metadata": {
        "id": "hM1HLWOld9pm"
      },
      "source": [
        "nout[nout>threshold] = 1 \n",
        "nout[nout<=threshold] = 0\n",
        "#clipping range\n",
        "nout = nout + nimg[:,:,0]"
      ],
      "execution_count": null,
      "outputs": []
    },
    {
      "cell_type": "code",
      "metadata": {
        "colab": {
          "base_uri": "https://localhost:8080/"
        },
        "id": "2KdeIuAHGyl6",
        "outputId": "4cac8099-d5e7-4190-aa81-39d8faa58130"
      },
      "source": [
        "nout"
      ],
      "execution_count": null,
      "outputs": [
        {
          "output_type": "execute_result",
          "data": {
            "text/plain": [
              "array([[0., 0., 0., ..., 0., 0., 0.],\n",
              "       [0., 0., 0., ..., 0., 0., 0.],\n",
              "       [0., 0., 0., ..., 0., 0., 0.],\n",
              "       ...,\n",
              "       [0., 0., 0., ..., 0., 0., 0.],\n",
              "       [0., 0., 0., ..., 0., 0., 0.],\n",
              "       [0., 0., 0., ..., 0., 0., 0.]], dtype=float32)"
            ]
          },
          "metadata": {
            "tags": []
          },
          "execution_count": 90
        }
      ]
    },
    {
      "cell_type": "code",
      "metadata": {
        "colab": {
          "base_uri": "https://localhost:8080/",
          "height": 225
        },
        "id": "BdAdHX279Law",
        "outputId": "2a09c149-7331-4878-b0ab-1dd97c26bd28"
      },
      "source": [
        "plt.imshow(nout)"
      ],
      "execution_count": null,
      "outputs": [
        {
          "output_type": "execute_result",
          "data": {
            "text/plain": [
              "<matplotlib.image.AxesImage at 0x7f3bdfe007d0>"
            ]
          },
          "metadata": {
            "tags": []
          },
          "execution_count": 91
        },
        {
          "output_type": "display_data",
          "data": {
            "image/png": "[encoded data removed]",
            "text/plain": [
              "<Figure size 432x288 with 1 Axes>"
            ]
          },
          "metadata": {
            "tags": [],
            "needs_background": "light"
          }
        }
      ]
    },
    {
      "cell_type": "code",
      "metadata": {
        "id": "3zljWLCgeDzv"
      },
      "source": [
        "output_path = \"gdrive/My Drive/APS360/Project/model_output\"\n",
        "output_path = Path(output_path)\n",
        "if not output_path.exists():\n",
        "    output_path.mkdir()\n",
        "\n",
        "Image.fromarray(255*nout).convert(\"RGB\").save('gdrive/My Drive/Project/swag.png')\n",
        "#confirm path to input image"
      ],
      "execution_count": null,
      "outputs": []
    },
    {
      "cell_type": "code",
      "metadata": {
        "colab": {
          "base_uri": "https://localhost:8080/",
          "height": 225
        },
        "id": "o-QGq8HYDJlW",
        "outputId": "11cce60e-7729-4969-8923-de778cac87f1"
      },
      "source": [
        "plt.imshow(Image.fromarray(255*nout).convert(\"RGB\"))"
      ],
      "execution_count": null,
      "outputs": [
        {
          "output_type": "execute_result",
          "data": {
            "text/plain": [
              "<matplotlib.image.AxesImage at 0x7f3bdfddff90>"
            ]
          },
          "metadata": {
            "tags": []
          },
          "execution_count": 92
        },
        {
          "output_type": "display_data",
          "data": {
            "image/png": "[encoded data removed]",
            "text/plain": [
              "<Figure size 432x288 with 1 Axes>"
            ]
          },
          "metadata": {
            "tags": [],
            "needs_background": "light"
          }
        }
      ]
    },
    {
      "cell_type": "code",
      "metadata": {
        "id": "P0MRZpzYecnt"
      },
      "source": [
        "def extract_output(model, input_path, output_path):\n",
        "  model.eval()\n",
        "  model.to('cpu')\n",
        "  model.requires_grad = False\n",
        "  img = Image.open(input_path).convert(\"RGB\")\n",
        "  nimg = np.asarray(img)\n",
        "  preprocess = transforms.Compose([transforms.ToTensor()])\n",
        "  outputs = model(torch.unsqueeze(preprocess(img), 0 ))[\"out\"]\n",
        "  nout = normalize(outputs.detach().numpy()[0, 0, :,:])\n",
        "  threshold = 0.7\n",
        "  nout[nout>threshold] = 1\n",
        "  nout[nout<=threshold] = 0\n",
        "  nout = nout + nimg[:,:,0]\n",
        "\n",
        "  Image.fromarray(255*nout).convert(\"RGB\").save(output_path)"
      ],
      "execution_count": null,
      "outputs": []
    },
    {
      "cell_type": "code",
      "metadata": {
        "id": "V9UA4Qiqemlc"
      },
      "source": [
        "inn = \"gdrive/My Drive/Project/10_test/resized_input\"\n",
        "out = \"gdrive/My Drive/Project/10_test_out\"\n",
        "\n",
        "im_list = []\n",
        "for image in os.listdir(inn):\n",
        "  if image.endswith(\".png\"):\n",
        "    im_list.append(image)\n",
        "    #extract_output(chosen_net, input_path=inn + '/' + image, output_path = out + '/' + image)\n",
        "  else: \n",
        "    continue"
      ],
      "execution_count": null,
      "outputs": []
    },
    {
      "cell_type": "code",
      "metadata": {
        "colab": {
          "base_uri": "https://localhost:8080/"
        },
        "id": "xrMwzJcz7zJo",
        "outputId": "4ec798cc-cad5-4598-fed1-62194ece6533"
      },
      "source": [
        "print(im_list)"
      ],
      "execution_count": null,
      "outputs": [
        {
          "output_type": "stream",
          "text": [
            "['sans.png', 'EDM.png', 'Sample3_Anna.png', 'Sample1_Anna.png', 'Sample2_Anna.png', 'Rondo.png', 'gravity_falls_mock.png', 'basic_melody.png', 'bengoel_2.png', 'bengoel_1.png']\n"
          ],
          "name": "stdout"
        }
      ]
    },
    {
      "cell_type": "code",
      "metadata": {
        "id": "RWrxsKOnesaN"
      },
      "source": [
        "#saving model outputs to model output folder\n",
        "for i in range(len(im_list)):\n",
        "  extract_output(chosen_net, inn + '/' + im_list[i], out + '/' + im_list[i])"
      ],
      "execution_count": null,
      "outputs": []
    }
  ]
}